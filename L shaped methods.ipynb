{
 "cells": [
  {
   "cell_type": "code",
   "execution_count": 1,
   "id": "secret-football",
   "metadata": {},
   "outputs": [],
   "source": [
    "using JuMP\n",
    "using CPLEX\n",
    "using LinearAlgebra"
   ]
  },
  {
   "cell_type": "markdown",
   "id": "weighted-treasury",
   "metadata": {},
   "source": [
    "Now we define the master problem :)"
   ]
  },
  {
   "cell_type": "code",
   "execution_count": 2,
   "id": "million-fruit",
   "metadata": {},
   "outputs": [
    {
     "data": {
      "text/plain": [
       "solve_master (generic function with 1 method)"
      ]
     },
     "execution_count": 2,
     "metadata": {},
     "output_type": "execute_result"
    }
   ],
   "source": [
    "function solve_master(A,b,c, op_A, op_B, feas_A, feas_B)\n",
    "    nx = size(c, 2)\n",
    "    m = Model(CPLEX.Optimizer)\n",
    "    if size(op_A, 1) == 0\n",
    "        @variable(m, x[1:nx])\n",
    "        @objective(m, Min, sum(c[i] * x[i] for i = 1:nx))\n",
    "        @constraint(m, A*x .<= b)\n",
    "        optimize!(m)\n",
    "        theta = -Inf\n",
    "    else\n",
    "        @variable(m, x[1:nx])\n",
    "        @variable(m, theta)\n",
    "        @objective(m, Min, sum(c[i] * x[i] for i = 1:nx) + theta)\n",
    "        @constraint(m, A*x .<= b)\n",
    "        for i = 1:size(op_A, 1)\n",
    "            @constraint(m, sum(op_A[i,j] * x[j] for j = 1:nx) + op_A[i,nx+1] * theta .>= op_B[i])\n",
    "    \n",
    "        end\n",
    "        optimize!(m)\n",
    "        theta = JuMP.value(theta)\n",
    "    end\n",
    "    sol = zeros(1, nx)\n",
    "    for i = 1:nx\n",
    "            sol[i] = JuMP.value(x[i])\n",
    "    end\n",
    "    sol = vec(sol)\n",
    "    return (objective_value(m), sol, theta, JuMP.termination_status(m))\n",
    "end"
   ]
  },
  {
   "cell_type": "code",
   "execution_count": 3,
   "id": "d9ffd656",
   "metadata": {},
   "outputs": [
    {
     "data": {
      "text/plain": [
       "step2 (generic function with 1 method)"
      ]
     },
     "execution_count": 3,
     "metadata": {},
     "output_type": "execute_result"
    }
   ],
   "source": [
    "function step2(W, h, T, x, omega, q)\n",
    "    m = Model(CPLEX.Optimizer)\n",
    "    ny = size(W,2)\n",
    "    \n",
    "    @variable(m, y[1:ny] >= 0)\n",
    "    @constraint(m,constraint, W*y - h[:,omega] + T*x .<= 0)\n",
    "    @objective(m, Min, transpose(q[:,omega]) * y)\n",
    "    optimize!(m);\n",
    "    sol = zeros(1, ny)\n",
    "    for i = 1:ny\n",
    "        sol[i] = JuMP.value(y[i])\n",
    "    end\n",
    "    sol = vec(sol)\n",
    "    return (objective_value(m), sol, dual.(constraint), JuMP.termination_status(m))\n",
    "end"
   ]
  },
  {
   "cell_type": "code",
   "execution_count": 4,
   "id": "prescribed-title",
   "metadata": {},
   "outputs": [
    {
     "data": {
      "text/plain": [
       "main (generic function with 1 method)"
      ]
     },
     "execution_count": 4,
     "metadata": {},
     "output_type": "execute_result"
    }
   ],
   "source": [
    "function main(A, b, c, T, W, h, q, p)\n",
    "    op_A = []\n",
    "    op_B = []\n",
    "    fea_A = []\n",
    "    fea_B = []\n",
    "    k = 0\n",
    "    val_k, x_k, theta_k = 0, 0, 0\n",
    "    w_old = -Inf\n",
    "    w_now = -Inf\n",
    "    while (k<10000000000)\n",
    "        println(k)\n",
    "        \n",
    "        (val_k, x_k, theta_k, termination_status) = solve_master(A, b, c, op_A, op_B, fea_A, fea_B)\n",
    "    \n",
    "        if termination_status == MOI.INFEASIBLE\n",
    "            return (-1, -1, -1)\n",
    "        end\n",
    "        \n",
    "        V_temp = []\n",
    "        status = 0\n",
    "        e = 0\n",
    "        E = zeros(1,size(p,2))\n",
    "        for w in 1:size(p,2)\n",
    "            (w_k, y_k, pi_k, termination_status) = step2(W, h, T, x_k, w, q)\n",
    "            w_now = w_k\n",
    "            if termination_status == MOI.INFEASIBLE\n",
    "                S_k = [S_k; sigma_k]\n",
    "                k += 1\n",
    "                status = 1\n",
    "                break\n",
    "            else\n",
    "                e += p[w] * transpose(pi_k) * h[:,w]\n",
    "                E += p[w] * transpose(pi_k) * T\n",
    "            end\n",
    "        end\n",
    "        if(status == 0)\n",
    "                V_temp = [E 1]\n",
    "            if op_A == []\n",
    "                op_A  = V_temp\n",
    "                op_B  = [e]\n",
    "                \n",
    "            else\n",
    "                op_A = [op_A; V_temp]\n",
    "                op_B = [op_B;e]\n",
    "            end\n",
    "            \n",
    "            if(w_now <= theta_k)\n",
    "                return (x_k, y_k, k)\n",
    "            else\n",
    "                k += 1\n",
    "                w_old = w_now\n",
    "            end\n",
    "        end\n",
    "    end\n",
    "end "
   ]
  },
  {
   "cell_type": "code",
   "execution_count": 5,
   "id": "elder-guest",
   "metadata": {
    "scrolled": false
   },
   "outputs": [
    {
     "name": "stdout",
     "output_type": "stream",
     "text": [
      "0\n",
      "Version identifier: 20.1.0.0 | 2020-11-10 | 9bedb6d68\n",
      "Tried aggregator 1 time.\n",
      "LP Presolve eliminated 3 rows and 2 columns.\n",
      "All rows and columns eliminated.\n",
      "Presolve time = 0.00 sec. (0.00 ticks)\n",
      "Version identifier: 20.1.0.0 | 2020-11-10 | 9bedb6d68\n",
      "Tried aggregator 1 time.\n",
      "LP Presolve eliminated 4 rows and 2 columns.\n",
      "All rows and columns eliminated.\n",
      "Presolve time = 0.00 sec. (0.00 ticks)\n",
      "Version identifier: 20.1.0.0 | 2020-11-10 | 9bedb6d68\n",
      "Tried aggregator 1 time.\n",
      "LP Presolve eliminated 2 rows and 0 columns.\n",
      "Reduced LP has 2 rows, 2 columns, and 4 nonzeros.\n",
      "Presolve time = 0.00 sec. (0.00 ticks)\n",
      "\n",
      "Iteration log . . .\n",
      "Iteration:     1   Dual objective     =        -10320.000000\n",
      "1\n",
      "Version identifier: 20.1.0.0 | 2020-11-10 | 9bedb6d68\n",
      "Tried aggregator 1 time.\n",
      "LP Presolve eliminated 4 rows and 3 columns.\n",
      "All rows and columns eliminated.\n",
      "Presolve time = 0.00 sec. (0.00 ticks)\n",
      "Version identifier: 20.1.0.0 | 2020-11-10 | 9bedb6d68\n",
      "Tried aggregator 1 time.\n",
      "LP Presolve eliminated 4 rows and 2 columns.\n",
      "All rows and columns eliminated.\n",
      "Presolve time = 0.00 sec. (0.00 ticks)\n",
      "Version identifier: 20.1.0.0 | 2020-11-10 | 9bedb6d68\n",
      "Tried aggregator 1 time.\n",
      "LP Presolve eliminated 4 rows and 2 columns.\n",
      "All rows and columns eliminated.\n",
      "Presolve time = 0.00 sec. (0.00 ticks)\n",
      "2\n",
      "Version identifier: 20.1.0.0 | 2020-11-10 | 9bedb6d68\n",
      "Tried aggregator 1 time.\n",
      "LP Presolve eliminated 2 rows and 0 columns.\n",
      "Reduced LP has 3 rows, 3 columns, and 7 nonzeros.\n",
      "Presolve time = 0.00 sec. (0.00 ticks)\n",
      "\n",
      "Iteration log . . .\n",
      "Iteration:     1   Scaled dual infeas =            30.479999\n",
      "Iteration:     3   Dual objective     =         -1039.374870\n",
      "Version identifier: 20.1.0.0 | 2020-11-10 | 9bedb6d68\n",
      "Tried aggregator 1 time.\n",
      "LP Presolve eliminated 3 rows and 0 columns.\n",
      "Reduced LP has 1 rows, 2 columns, and 2 nonzeros.\n",
      "Presolve time = 0.00 sec. (0.00 ticks)\n",
      "\n",
      "Iteration log . . .\n",
      "Iteration:     1   Dual objective     =        -14061.370717\n",
      "Version identifier: 20.1.0.0 | 2020-11-10 | 9bedb6d68\n",
      "Tried aggregator 1 time.\n",
      "LP Presolve eliminated 3 rows and 0 columns.\n",
      "Reduced LP has 1 rows, 2 columns, and 2 nonzeros.\n",
      "Presolve time = 0.00 sec. (0.00 ticks)\n",
      "\n",
      "Iteration log . . .\n",
      "Iteration:     1   Dual objective     =        -15470.903427\n",
      "3\n",
      "Version identifier: 20.1.0.0 | 2020-11-10 | 9bedb6d68\n",
      "Tried aggregator 1 time.\n",
      "LP Presolve eliminated 2 rows and 0 columns.\n",
      "Reduced LP has 4 rows, 3 columns, and 10 nonzeros.\n",
      "Presolve time = 0.00 sec. (0.00 ticks)\n",
      "\n",
      "Iteration log . . .\n",
      "Iteration:     1   Scaled dual infeas =            21.617021\n",
      "Iteration:     3   Dual objective     =         -1039.374870\n",
      "Version identifier: 20.1.0.0 | 2020-11-10 | 9bedb6d68\n",
      "Tried aggregator 1 time.\n",
      "LP Presolve eliminated 2 rows and 0 columns.\n",
      "Reduced LP has 2 rows, 2 columns, and 4 nonzeros.\n",
      "Presolve time = 0.00 sec. (0.00 ticks)\n",
      "\n",
      "Iteration log . . .\n",
      "Iteration:     1   Dual objective     =         -9400.000000\n",
      "Version identifier: 20.1.0.0 | 2020-11-10 | 9bedb6d68\n",
      "Tried aggregator 1 time.\n",
      "LP Presolve eliminated 2 rows and 0 columns.\n",
      "Reduced LP has 2 rows, 2 columns, and 4 nonzeros.\n",
      "Presolve time = 0.00 sec. (0.00 ticks)\n",
      "\n",
      "Iteration log . . .\n",
      "Iteration:     1   Dual objective     =        -10320.000000\n"
     ]
    },
    {
     "ename": "LoadError",
     "evalue": "UndefVarError: y_k not defined",
     "output_type": "error",
     "traceback": [
      "UndefVarError: y_k not defined",
      "",
      "Stacktrace:",
      " [1] main(A::Matrix{Int64}, b::Vector{Int64}, c::Matrix{Int64}, T::Matrix{Int64}, W::Matrix{Int64}, h::Matrix{Int64}, q::Matrix{Int64}, p::Matrix{Float64})",
      "   @ Main ./In[4]:48",
      " [2] top-level scope",
      "   @ In[5]:12",
      " [3] eval",
      "   @ ./boot.jl:360 [inlined]",
      " [4] include_string(mapexpr::typeof(REPL.softscope), mod::Module, code::String, filename::String)",
      "   @ Base ./loading.jl:1094"
     ]
    }
   ],
   "source": [
    "d = [500 100; 300 300]\n",
    "q = [-24 -28; -28 -32]\n",
    "p = [0.4 0.6]\n",
    "\n",
    "A = [1 1; -1 0; 0 -1]\n",
    "b = [120; -40; -20]\n",
    "c = [100 150]\n",
    "\n",
    "T = [-60 0; 0 -80; 0 0; 0 0]\n",
    "W = [6 10; 8 5; 1 0; 0 1]\n",
    "h = [0 0; 0 0; d[1,1] d[2,1]; d[1,2] d[2,2]]\n",
    "(x,y, k) = main(A, b, c, T, W, h, q, p)\n"
   ]
  },
  {
   "cell_type": "code",
   "execution_count": null,
   "id": "945b4b4a",
   "metadata": {},
   "outputs": [],
   "source": []
  },
  {
   "cell_type": "code",
   "execution_count": null,
   "id": "charming-vegetation",
   "metadata": {},
   "outputs": [],
   "source": []
  }
 ],
 "metadata": {
  "kernelspec": {
   "display_name": "Julia 1.6.0",
   "language": "julia",
   "name": "julia-1.6"
  },
  "language_info": {
   "file_extension": ".jl",
   "mimetype": "application/julia",
   "name": "julia",
   "version": "1.6.0"
  }
 },
 "nbformat": 4,
 "nbformat_minor": 5
}
