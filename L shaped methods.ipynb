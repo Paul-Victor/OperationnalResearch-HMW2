{
 "cells": [
  {
   "cell_type": "code",
   "execution_count": 1,
   "id": "secret-football",
   "metadata": {},
   "outputs": [],
   "source": [
    "using JuMP\n",
    "using CPLEX"
   ]
  },
  {
   "cell_type": "markdown",
   "id": "weighted-treasury",
   "metadata": {},
   "source": [
    "Now we define the master problem :)"
   ]
  },
  {
   "cell_type": "code",
   "execution_count": 92,
   "id": "million-fruit",
   "metadata": {},
   "outputs": [
    {
     "data": {
      "text/plain": [
       "solve_master (generic function with 1 method)"
      ]
     },
     "execution_count": 92,
     "metadata": {},
     "output_type": "execute_result"
    }
   ],
   "source": [
    "function solve_master(A,b,c,h,T,V,R)\n",
    "    relaxation = 15\n",
    "    nx = size(c,1)\n",
    "    m = Model(CPLEX.Optimizer)\n",
    "    @variable(m, x[1:nx] >= 0)\n",
    "    @variable(m, theta)\n",
    "    if(size(V,1) > 0)\n",
    "        @objective(m, Min, sum(c[i]*x[i] for i = 1:nx) + theta)\n",
    "    else\n",
    "        @objective(m, Min, sum(c[i]*x[i] for i = 1:nx))\n",
    "    end\n",
    "    @constraint(m, A*x .== b)\n",
    "    if size(R,1) > 0\n",
    "        for i in 1:size(R,1)\n",
    "            @constraint(m, transpose(R[i,:])*(h-T*x)<=0)\n",
    "        end\n",
    "    end\n",
    "    if size(V,1) > 0\n",
    "        for i in 1:size(V,1)\n",
    "            @constraint(m, theta >= transpose(V[i,:])*(h-T*x))\n",
    "        end\n",
    "    end\n",
    "    optimize!(m)\n",
    "    sol = zeros(1, nx)\n",
    "    for i = 1:nx\n",
    "        sol[i] = JuMP.value(x[i])\n",
    "    end\n",
    "    sol = vec(sol)\n",
    "    if(size(V,1)>0)\n",
    "        return (objective_value(m), sol, theta,termination_status(model))\n",
    "    else\n",
    "        return (objective_value(m), sol, -Inf,termination_status(model))\n",
    "    end\n",
    "end"
   ]
  },
  {
   "cell_type": "code",
   "execution_count": null,
   "id": "d9ffd656",
   "metadata": {},
   "outputs": [],
   "source": [
    "function step2(W, h, T, x, omega)\n",
    "    m = Model(CPLEX.Optimizer)\n",
    "    ny = size(W,2)\n",
    "    \n",
    "    @variable(m, y[1:ny] >= 0)\n",
    "    @constraint(m, constraint, W*y - h + T*x_t .== 0)\n",
    "    @objective(m, Min, W[omega,:] * y)\n",
    "    optimize!(m);\n",
    "    \n",
    "    sol = zeros(1, ny)\n",
    "    for i = 1:ny\n",
    "        sol[i] = JuMP.value(y[i])\n",
    "    end\n",
    "    sol = vec(sol)\n",
    "    \n",
    "    return (objective_value(m), sol, dual.(constraint), termination_status(model))\n",
    "end"
   ]
  },
  {
   "cell_type": "code",
   "execution_count": null,
   "id": "5ead46a7",
   "metadata": {},
   "outputs": [],
   "source": [
    "function step3()\n",
    "    "
   ]
  },
  {
   "cell_type": "code",
   "execution_count": 2,
   "id": "million-fruit",
   "metadata": {},
   "outputs": [
    {
     "data": {
      "text/plain": [
       "solve_master (generic function with 1 method)"
      ]
     },
     "execution_count": 2,
     "metadata": {},
     "output_type": "execute_result"
    }
   ],
   "source": [
    "function main(A, b, c, T, W, h, q, p)\n",
    "    h = []\n",
    "    T = []\n",
    "    V = []\n",
    "    S = []\n",
    "    \n",
    "    k = 0\n",
    "    val_k, x_k, theta_k = 0, 0, 0\n",
    "\n",
    "    while (k<10000000000)\n",
    "        \n",
    "        (val_k, x_k, theta_k, termination_status) = solve_master(A, b, c, h, T, V, S)\n",
    "    \n",
    "        if temination_status == INFEASIBLE\n",
    "            return (-1, -1, -1)\n",
    "        end\n",
    "        \n",
    "        V_temp = V\n",
    "        status = 0\n",
    "        \n",
    "        for w in 1:size(p,2)\n",
    "            (pi_k, y_k, sigma_k, termination_status) = step2(W, h, T, x, w)\n",
    "            \n",
    "            if temination_status == INFEASIBLE\n",
    "                S_k = [S_k; sigma_k]\n",
    "                k += 1\n",
    "                status = 1\n",
    "                break\n",
    "            else\n",
    "                V_temp = [V_temp p*pi_k]\n",
    "            end\n",
    "        end\n",
    "        if(status == 0)\n",
    "            V_new = [V; V_temp]\n",
    "            if(V_new == V)\n",
    "                return (x_k, y_k, k)\n",
    "            else\n",
    "                k += 1\n",
    "                V = V_new\n",
    "            end\n",
    "        end\n",
    "    end\n",
    "        \n",
    "            \n",
    "            \n",
    "        \n",
    "        \n",
    "    \n",
    "        \n",
    "    \n",
    "    "
   ]
  },
  {
   "cell_type": "code",
   "execution_count": 7,
   "id": "elder-guest",
   "metadata": {},
   "outputs": [
    {
     "name": "stdout",
     "output_type": "stream",
     "text": [
      "Version identifier: 20.1.0.0 | 2020-11-10 | 9bedb6d68\n",
      "Infeasibility row 'c1':  0  = 60.\n",
      "Presolve time = 0.00 sec. (0.00 ticks)\n"
     ]
    },
    {
     "ename": "LoadError",
     "evalue": "Result index of attribute MathOptInterface.VariablePrimal(1) out of bounds. There are currently 0 solution(s) in the model.",
     "output_type": "error",
     "traceback": [
      "Result index of attribute MathOptInterface.VariablePrimal(1) out of bounds. There are currently 0 solution(s) in the model.",
      "",
      "Stacktrace:",
      "  [1] check_result_index_bounds(model::CPLEX.Optimizer, attr::MathOptInterface.VariablePrimal)",
      "    @ MathOptInterface ~/.julia/packages/MathOptInterface/5WwpK/src/attributes.jl:139",
      "  [2] get(model::CPLEX.Optimizer, attr::MathOptInterface.VariablePrimal, x::MathOptInterface.VariableIndex)",
      "    @ CPLEX ~/.julia/packages/CPLEX/uUjlQ/src/MOI/MOI_wrapper.jl:2671",
      "  [3] get(b::MathOptInterface.Bridges.LazyBridgeOptimizer{CPLEX.Optimizer}, attr::MathOptInterface.VariablePrimal, index::MathOptInterface.VariableIndex)",
      "    @ MathOptInterface.Bridges ~/.julia/packages/MathOptInterface/5WwpK/src/Bridges/bridge_optimizer.jl:933",
      "  [4] get(model::MathOptInterface.Utilities.CachingOptimizer{MathOptInterface.AbstractOptimizer, MathOptInterface.Utilities.UniversalFallback{MathOptInterface.Utilities.Model{Float64}}}, attr::MathOptInterface.VariablePrimal, index::MathOptInterface.VariableIndex)",
      "    @ MathOptInterface.Utilities ~/.julia/packages/MathOptInterface/5WwpK/src/Utilities/cachingoptimizer.jl:726",
      "  [5] _moi_get_result(::MathOptInterface.Utilities.CachingOptimizer{MathOptInterface.AbstractOptimizer, MathOptInterface.Utilities.UniversalFallback{MathOptInterface.Utilities.Model{Float64}}}, ::MathOptInterface.VariablePrimal, ::Vararg{Any, N} where N)",
      "    @ JuMP ~/.julia/packages/JuMP/MIPb6/src/JuMP.jl:1087",
      "  [6] get(model::Model, attr::MathOptInterface.VariablePrimal, v::VariableRef)",
      "    @ JuMP ~/.julia/packages/JuMP/MIPb6/src/JuMP.jl:1120",
      "  [7] value(v::VariableRef; result::Int64)",
      "    @ JuMP ~/.julia/packages/JuMP/MIPb6/src/variables.jl:929",
      "  [8] value",
      "    @ ~/.julia/packages/JuMP/MIPb6/src/variables.jl:929 [inlined]",
      "  [9] solve_master(A::Matrix{Int64}, b::Vector{Int64}, c::Matrix{Int64}, h::Vector{Any}, T::Vector{Any}, V::Vector{Any}, R::Vector{Any})",
      "    @ Main ./In[2]:26",
      " [10] top-level scope",
      "    @ In[7]:4",
      " [11] eval",
      "    @ ./boot.jl:360 [inlined]",
      " [12] include_string(mapexpr::typeof(REPL.softscope), mod::Module, code::String, filename::String)",
      "    @ Base ./loading.jl:1094"
     ]
    }
   ],
   "source": [
    "d = [500 100; 300 300]\n",
    "q = [-24 -28; -28 -32]\n",
    "p = [0.4 0.6]\n",
    "\n",
    "A = [1 1; -1 0; 0 -1]\n",
    "b = [120; -40; -20]\n",
    "c = [100 150]\n",
    "\n",
    "T = [-60 0; 0 -80; 0 0; 0 0]\n",
    "W = [6 10; 8 5; 1 0; 0 1]\n",
    "h = [0 0; 0 0; d[1,1] d[2,1]; d[1,2] d[2,2]]\n",
    "\n",
    "(x,y, k) = main(A, b, c, T, W, h, q, p)\n",
    "\n",
    "println(x)\n",
    "println(y)\n",
    "println(k)\n"
   ]
  },
  {
   "cell_type": "code",
   "execution_count": null,
   "id": "b9ee40a5",
   "metadata": {},
   "outputs": [],
   "source": []
  }
 ],
 "metadata": {
  "kernelspec": {
   "display_name": "Julia 1.6.0",
   "language": "julia",
   "name": "julia-1.6"
  },
  "language_info": {
   "file_extension": ".jl",
   "mimetype": "application/julia",
   "name": "julia",
   "version": "1.6.0"
  }
 },
 "nbformat": 4,
 "nbformat_minor": 5
}
