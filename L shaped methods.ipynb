{
 "cells": [
  {
   "cell_type": "code",
   "execution_count": 1,
   "id": "secret-football",
   "metadata": {},
   "outputs": [],
   "source": [
    "using JuMP\n",
    "using CPLEX\n",
    "using LinearAlgebra\n"
   ]
  },
  {
   "cell_type": "markdown",
   "id": "weighted-treasury",
   "metadata": {},
   "source": [
    "Now we define the master problem :)"
   ]
  },
  {
   "cell_type": "code",
   "execution_count": 26,
   "id": "million-fruit",
   "metadata": {},
   "outputs": [
    {
     "data": {
      "text/plain": [
       "solve_master (generic function with 1 method)"
      ]
     },
     "execution_count": 26,
     "metadata": {},
     "output_type": "execute_result"
    }
   ],
   "source": [
    "function solve_master(A,b,c,h,T,V,R)\n",
    "    println(\"Beginning Master ...\")\n",
    "    relaxation = 15\n",
    "    nx = size(c,1)\n",
    "    m = Model(CPLEX.Optimizer)\n",
    "    @variable(m, x[1:nx] >= 0)\n",
    "    @variable(m, theta)\n",
    "    if(size(V,1) > 0)\n",
    "        @objective(m, Min, sum(c[i]*x[i] for i = 1:nx) + theta)\n",
    "    else\n",
    "        @objective(m, Min, sum(c[i]*x[i] for i = 1:nx))\n",
    "    end\n",
    "    @constraint(m, A*x .<= b)\n",
    "    if size(R,1) > 0\n",
    "        for i in 1:size(R,1)\n",
    "            @constraint(m, transpose(R[i,:])*(h[:,i]-T*x)<=0)\n",
    "        end\n",
    "    end\n",
    "    if size(V,1) > 0\n",
    "        for i in 1:size(V,1)\n",
    "            println(h)\n",
    "            println(T)\n",
    "            println(x)\n",
    "            println(T*x)\n",
    "            @constraint(m, theta >= transpose(V[i,:])*(h-T*x))\n",
    "        end\n",
    "    end\n",
    "    optimize!(m)\n",
    "    sol = zeros(1, nx)\n",
    "    for i = 1:nx\n",
    "        sol[i] = JuMP.value(x[i])\n",
    "    end\n",
    "    sol = vec(sol)\n",
    "    if(size(V,1)>0)\n",
    "        return (objective_value(m), sol, theta, JuMP.termination_status(m))\n",
    "    else\n",
    "        return (objective_value(m), sol, -Inf, JuMP.termination_status(m))\n",
    "    end\n",
    "    println(\"Master Fini !\")\n",
    "end"
   ]
  },
  {
   "cell_type": "code",
   "execution_count": 27,
   "id": "d9ffd656",
   "metadata": {},
   "outputs": [
    {
     "data": {
      "text/plain": [
       "step2 (generic function with 1 method)"
      ]
     },
     "execution_count": 27,
     "metadata": {},
     "output_type": "execute_result"
    }
   ],
   "source": [
    "function step2(W, h, T, x, omega, q)\n",
    "    println(\"Beginning step 2 ...\")\n",
    "    m = Model(CPLEX.Optimizer)\n",
    "    ny = size(W,2)\n",
    "    \n",
    "    @variable(m, y[1:ny] >= 0)\n",
    "\n",
    "    @constraint(m,constraint, W*y - h[:,omega] + T*x .<= 0)\n",
    "    @objective(m, Min, transpose(q[:,omega]) * y)\n",
    "    optimize!(m);\n",
    "    sol = zeros(1, ny)\n",
    "    for i = 1:ny\n",
    "        sol[i] = JuMP.value(y[i])\n",
    "    end\n",
    "    sol = vec(sol)\n",
    "    return (objective_value(m), sol, dual.(constraint), JuMP.termination_status(m))\n",
    "    println(\"Step 2 Fini :)\")\n",
    "end"
   ]
  },
  {
   "cell_type": "code",
   "execution_count": 28,
   "id": "9f6ffca8",
   "metadata": {},
   "outputs": [
    {
     "data": {
      "text/plain": [
       "main (generic function with 1 method)"
      ]
     },
     "execution_count": 28,
     "metadata": {},
     "output_type": "execute_result"
    }
   ],
   "source": [
    "function main(A, b, c, T, W, h, q, p)\n",
    "    V = []\n",
    "    S = []\n",
    "    \n",
    "    k = 0\n",
    "    val_k, x_k, theta_k = 0, 0, 0\n",
    "\n",
    "    while (k<10000000000)\n",
    "        println(k)\n",
    "        \n",
    "        (val_k, x_k, theta_k, termination_status) = solve_master(A, b, c, h, T, V, S)\n",
    "    \n",
    "        if termination_status == MOI.INFEASIBLE\n",
    "            return (-1, -1, -1)\n",
    "        end\n",
    "        \n",
    "        V_temp = []\n",
    "        status = 0\n",
    "        \n",
    "        for w in 1:size(p,2)\n",
    "            (pi_k, y_k, sigma_k, termination_status) = step2(W, h, T, x_k, w, q)\n",
    "            \n",
    "            if termination_status == MOI.INFEASIBLE\n",
    "                S_k = [S_k; sigma_k]\n",
    "                k += 1\n",
    "                status = 1\n",
    "                break\n",
    "            else\n",
    "                if V_temp == []\n",
    "                    V_temp = [p[w]*pi_k]\n",
    "                else\n",
    "                    V_temp = [V_temp p[w]*pi_k]\n",
    "                end\n",
    "            end\n",
    "        end\n",
    "        if(status == 0)\n",
    "            if V == []\n",
    "                V_new  = V_temp\n",
    "            else\n",
    "                V_new = [V; V_temp]\n",
    "            end\n",
    "            \n",
    "            if(V_new == V)\n",
    "                return (x_k, y_k, k)\n",
    "            else\n",
    "                k += 1\n",
    "                V = V_new\n",
    "            end\n",
    "        end\n",
    "    end\n",
    "end\n",
    "        \n",
    "            \n",
    "            \n",
    "        \n",
    "        \n",
    "    \n",
    "        \n",
    "    \n",
    "    "
   ]
  },
  {
   "cell_type": "code",
   "execution_count": 29,
   "id": "elder-guest",
   "metadata": {
    "scrolled": false
   },
   "outputs": [
    {
     "name": "stdout",
     "output_type": "stream",
     "text": [
      "0\n",
      "Beginning Master ...\n",
      "Version identifier: 20.1.0.0 | 2020-11-10 | 9bedb6d68\n",
      "Tried aggregator 1 time.\n",
      "LP Presolve eliminated 3 rows and 3 columns.\n",
      "All rows and columns eliminated.\n",
      "Presolve time = 0.00 sec. (0.00 ticks)\n",
      "Beginning step 2 ...\n",
      "Version identifier: 20.1.0.0 | 2020-11-10 | 9bedb6d68\n",
      "Tried aggregator 1 time.\n",
      "LP Presolve eliminated 4 rows and 2 columns.\n",
      "All rows and columns eliminated.\n",
      "Presolve time = 0.00 sec. (0.00 ticks)\n",
      "Beginning step 2 ...\n",
      "Version identifier: 20.1.0.0 | 2020-11-10 | 9bedb6d68\n",
      "Tried aggregator 1 time.\n",
      "LP Presolve eliminated 2 rows and 0 columns.\n",
      "Reduced LP has 2 rows, 2 columns, and 4 nonzeros.\n",
      "Presolve time = 0.00 sec. (0.00 ticks)\n",
      "\n",
      "Iteration log . . .\n",
      "Iteration:     1   Dual objective     =        -10320.000000\n",
      "1\n",
      "Beginning Master ...\n",
      "[0 0; 0 0; 500 300; 100 300]\n",
      "[-60 0; 0 -80; 0 0; 0 0]\n",
      "VariableRef[x[1], x[2]]\n",
      "AffExpr[-60 x[1], -80 x[2], 0, 0]\n"
     ]
    },
    {
     "ename": "LoadError",
     "evalue": "`promote_operation(-, Matrix{Int64}, Vector{AffExpr})` not implemented yet, please report this.",
     "output_type": "error",
     "traceback": [
      "`promote_operation(-, Matrix{Int64}, Vector{AffExpr})` not implemented yet, please report this.",
      "",
      "Stacktrace:",
      "  [1] error(s::String)",
      "    @ Base ./error.jl:33",
      "  [2] promote_operation(op::Function, x::Type{Matrix{Int64}}, y::Type{Vector{AffExpr}})",
      "    @ MutableArithmetics ~/.julia/packages/MutableArithmetics/47eRY/src/interface.jl:16",
      "  [3] promote_operation(op::typeof(MutableArithmetics.sub_mul), T::Type, x::Type, y::Type)",
      "    @ MutableArithmetics ~/.julia/packages/MutableArithmetics/47eRY/src/shortcuts.jl:53",
      "  [4] mutability(::Type, ::Function, ::Type, ::Type, ::Type)",
      "    @ MutableArithmetics ~/.julia/packages/MutableArithmetics/47eRY/src/interface.jl:156",
      "  [5] mutability(::Matrix{Int64}, ::Function, ::Matrix{Int64}, ::Matrix{Int64}, ::Vector{VariableRef})",
      "    @ MutableArithmetics ~/.julia/packages/MutableArithmetics/47eRY/src/interface.jl:162",
      "  [6] operate!(::typeof(MutableArithmetics.sub_mul), ::Matrix{Int64}, ::Matrix{Int64}, ::Vector{VariableRef})",
      "    @ MutableArithmetics ~/.julia/packages/MutableArithmetics/47eRY/src/rewrite.jl:80",
      "  [7] macro expansion",
      "    @ ~/.julia/packages/MutableArithmetics/47eRY/src/rewrite.jl:276 [inlined]",
      "  [8] macro expansion",
      "    @ ~/.julia/packages/JuMP/MIPb6/src/macros.jl:607 [inlined]",
      "  [9] solve_master(A::Matrix{Int64}, b::Vector{Int64}, c::Vector{Int64}, h::Matrix{Int64}, T::Matrix{Int64}, V::Matrix{Float64}, R::Vector{Any})",
      "    @ Main ./In[26]:25",
      " [10] main(A::Matrix{Int64}, b::Vector{Int64}, c::Vector{Int64}, T::Matrix{Int64}, W::Matrix{Int64}, h::Matrix{Int64}, q::Matrix{Int64}, p::Matrix{Float64})",
      "    @ Main ./In[28]:11",
      " [11] top-level scope",
      "    @ In[29]:13",
      " [12] eval",
      "    @ ./boot.jl:360 [inlined]",
      " [13] include_string(mapexpr::typeof(REPL.softscope), mod::Module, code::String, filename::String)",
      "    @ Base ./loading.jl:1094"
     ]
    }
   ],
   "source": [
    "d = [500 100; 300 300]\n",
    "q = [-24 -28; -28 -32]\n",
    "p = [0.4 0.6]\n",
    "\n",
    "A = [1 1; -1 0; 0 -1]\n",
    "b = [120; -40; -20]\n",
    "c = [100; 150]\n",
    "\n",
    "T = [-60 0; 0 -80; 0 0; 0 0]\n",
    "W = [6 10; 8 5; 1 0; 0 1]\n",
    "h = [0 0; 0 0; d[1,1] d[2,1]; d[1,2] d[2,2]]\n",
    "\n",
    "(x,y, k) = main(A, b, c, T, W, h, q, p)\n",
    "\n",
    "println(x)\n",
    "println(y)\n",
    "println(k)\n"
   ]
  },
  {
   "cell_type": "code",
   "execution_count": null,
   "id": "945b4b4a",
   "metadata": {},
   "outputs": [],
   "source": []
  }
 ],
 "metadata": {
  "kernelspec": {
   "display_name": "Julia 1.6.0",
   "language": "julia",
   "name": "julia-1.6"
  },
  "language_info": {
   "file_extension": ".jl",
   "mimetype": "application/julia",
   "name": "julia",
   "version": "1.6.0"
  }
 },
 "nbformat": 4,
 "nbformat_minor": 5
}
