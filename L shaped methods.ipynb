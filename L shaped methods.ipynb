{
 "cells": [
  {
   "cell_type": "code",
   "execution_count": 1,
   "id": "secret-football",
   "metadata": {},
   "outputs": [],
   "source": [
    "using JuMP\n",
    "using CPLEX"
   ]
  },
  {
   "cell_type": "markdown",
   "id": "weighted-treasury",
   "metadata": {},
   "source": [
    "Now we define the master problem :)"
   ]
  },
  {
   "cell_type": "code",
   "execution_count": 92,
   "id": "million-fruit",
   "metadata": {},
   "outputs": [
    {
     "data": {
      "text/plain": [
       "solve_master (generic function with 1 method)"
      ]
     },
     "execution_count": 92,
     "metadata": {},
     "output_type": "execute_result"
    }
   ],
   "source": [
    "function solve_master(A,b,c,h,T,V,R)\n",
    "    relaxation = 15\n",
    "    nx = size(c,1)\n",
    "    m = Model(CPLEX.Optimizer)\n",
    "    @variable(m, x[1:nx] >= 0)\n",
    "    @variable(m, theta)\n",
    "    if(size(V,1) > 0)\n",
    "        @objective(m, Min, sum(c[i]*x[i] for i = 1:nx) + theta)\n",
    "    else\n",
    "        @objective(m, Min, sum(c[i]*x[i] for i = 1:nx))\n",
    "    end\n",
    "    @constraint(m, A*x .== b)\n",
    "    if size(R,1) > 0\n",
    "        for i in 1:size(R,1)\n",
    "            @constraint(m, transpose(R[i,:])*(h-T*x)<=0)\n",
    "        end\n",
    "    end\n",
    "    if size(V,1) > 0\n",
    "        for i in 1:size(V,1)\n",
    "            @constraint(m, theta >= transpose(V[i,:])*(h-T*x))\n",
    "        end\n",
    "    end\n",
    "    optimize!(m)\n",
    "    sol = zeros(1, nx)\n",
    "    for i = 1:nx\n",
    "        sol[i] = JuMP.value(x[i])\n",
    "    end\n",
    "    sol = vec(sol)\n",
    "    if(size(V,1)>0)\n",
    "        return (objective_value(m), sol, theta,termination_status(model))\n",
    "    else\n",
    "        return (objective_value(m), sol, -Inf,termination_status(model))\n",
    "    end\n",
    "end"
   ]
  },
  {
   "cell_type": "code",
   "execution_count": 93,
   "id": "latest-glance",
   "metadata": {},
   "outputs": [
    {
     "name": "stdout",
     "output_type": "stream",
     "text": [
      "Version identifier: 20.1.0.0 | 2020-11-10 | 9bedb6d68\n",
      "Infeasibility row 'c1':  0  = 60.\n",
      "Presolve time = 0.00 sec. (0.00 ticks)\n"
     ]
    },
    {
     "ename": "LoadError",
     "evalue": "Result index of attribute MathOptInterface.VariablePrimal(1) out of bounds. There are currently 0 solution(s) in the model.",
     "output_type": "error",
     "traceback": [
      "Result index of attribute MathOptInterface.VariablePrimal(1) out of bounds. There are currently 0 solution(s) in the model.",
      "",
      "Stacktrace:",
      "  [1] check_result_index_bounds(model::CPLEX.Optimizer, attr::MathOptInterface.VariablePrimal)",
      "    @ MathOptInterface ~/.julia/packages/MathOptInterface/5WwpK/src/attributes.jl:139",
      "  [2] get(model::CPLEX.Optimizer, attr::MathOptInterface.VariablePrimal, x::MathOptInterface.VariableIndex)",
      "    @ CPLEX ~/.julia/packages/CPLEX/uUjlQ/src/MOI/MOI_wrapper.jl:2671",
      "  [3] get(b::MathOptInterface.Bridges.LazyBridgeOptimizer{CPLEX.Optimizer}, attr::MathOptInterface.VariablePrimal, index::MathOptInterface.VariableIndex)",
      "    @ MathOptInterface.Bridges ~/.julia/packages/MathOptInterface/5WwpK/src/Bridges/bridge_optimizer.jl:933",
      "  [4] get(model::MathOptInterface.Utilities.CachingOptimizer{MathOptInterface.AbstractOptimizer, MathOptInterface.Utilities.UniversalFallback{MathOptInterface.Utilities.Model{Float64}}}, attr::MathOptInterface.VariablePrimal, index::MathOptInterface.VariableIndex)",
      "    @ MathOptInterface.Utilities ~/.julia/packages/MathOptInterface/5WwpK/src/Utilities/cachingoptimizer.jl:726",
      "  [5] _moi_get_result(::MathOptInterface.Utilities.CachingOptimizer{MathOptInterface.AbstractOptimizer, MathOptInterface.Utilities.UniversalFallback{MathOptInterface.Utilities.Model{Float64}}}, ::MathOptInterface.VariablePrimal, ::Vararg{Any, N} where N)",
      "    @ JuMP ~/.julia/packages/JuMP/MIPb6/src/JuMP.jl:1087",
      "  [6] get(model::Model, attr::MathOptInterface.VariablePrimal, v::VariableRef)",
      "    @ JuMP ~/.julia/packages/JuMP/MIPb6/src/JuMP.jl:1120",
      "  [7] value(v::VariableRef; result::Int64)",
      "    @ JuMP ~/.julia/packages/JuMP/MIPb6/src/variables.jl:929",
      "  [8] value",
      "    @ ~/.julia/packages/JuMP/MIPb6/src/variables.jl:929 [inlined]",
      "  [9] solve_master(A::Matrix{Int64}, b::Vector{Int64}, c::Vector{Int64}, h::Vector{Any}, T::Vector{Any}, V::Vector{Any}, R::Vector{Any})",
      "    @ Main ./In[92]:26",
      " [10] top-level scope",
      "    @ In[93]:5",
      " [11] eval",
      "    @ ./boot.jl:360 [inlined]",
      " [12] include_string(mapexpr::typeof(REPL.softscope), mod::Module, code::String, filename::String)",
      "    @ Base ./loading.jl:1094"
     ]
    }
   ],
   "source": [
    "A = [1 1; -1 0;0 -1]\n",
    "b = [120; -40; -20]\n",
    "c =[100; 150]\n",
    "\n",
    "solve_master(A,b,c,[],[],[],[])"
   ]
  },
  {
   "cell_type": "code",
   "execution_count": 74,
   "id": "loving-occurrence",
   "metadata": {},
   "outputs": [
    {
     "data": {
      "text/plain": [
       "3×2 Matrix{Int64}:\n",
       "  1   1\n",
       " -1   0\n",
       "  0  -1"
      ]
     },
     "execution_count": 74,
     "metadata": {},
     "output_type": "execute_result"
    }
   ],
   "source": [
    "A"
   ]
  },
  {
   "cell_type": "code",
   "execution_count": 75,
   "id": "induced-builder",
   "metadata": {},
   "outputs": [
    {
     "name": "stdout",
     "output_type": "stream",
     "text": [
      "[1, 1][-1, 0][0, -1]"
     ]
    }
   ],
   "source": [
    "for i in 1:size(A,1)\n",
    "    print(A[i,:])\n",
    "end"
   ]
  },
  {
   "cell_type": "code",
   "execution_count": null,
   "id": "quality-burke",
   "metadata": {},
   "outputs": [],
   "source": []
  }
 ],
 "metadata": {
  "kernelspec": {
   "display_name": "Julia 1.6.0",
   "language": "julia",
   "name": "julia-1.6"
  },
  "language_info": {
   "file_extension": ".jl",
   "mimetype": "application/julia",
   "name": "julia",
   "version": "1.6.0"
  }
 },
 "nbformat": 4,
 "nbformat_minor": 5
}
