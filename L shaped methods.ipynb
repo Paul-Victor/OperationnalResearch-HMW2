{
 "cells": [
  {
   "cell_type": "code",
   "execution_count": 1,
   "id": "secret-football",
   "metadata": {},
   "outputs": [],
   "source": [
    "using JuMP\n",
    "using CPLEX"
   ]
  },
  {
   "cell_type": "markdown",
   "id": "weighted-treasury",
   "metadata": {},
   "source": [
    "Now we define the master problem :)"
   ]
  },
  {
   "cell_type": "code",
   "execution_count": 134,
   "id": "million-fruit",
   "metadata": {},
   "outputs": [
    {
     "data": {
      "text/plain": [
       "solve_master (generic function with 1 method)"
      ]
     },
     "execution_count": 134,
     "metadata": {},
     "output_type": "execute_result"
    }
   ],
   "source": [
    "function solve_master(A,b,c,h,T,V,R)\n",
    "    relaxation = 15\n",
    "    nx = size(c,2)\n",
    "    m = Model(CPLEX.Optimizer)\n",
    "    @variable(m, x[1:nx] >= 0)\n",
    "    @variable(m, theta)\n",
    "    @objective(m, Min, sum(c[i]*x[i] for i = 1:nx))\n",
    "    @constraint(m, A*x .== b)\n",
    "    if size(R,1) > 0\n",
    "        for i in 1:size(R,2)\n",
    "            println(i)\n",
    "            @constraint(m, R[:,i]*(h-T*x)<=0)\n",
    "        end\n",
    "    end\n",
    "    println(\"Works 6\")\n",
    "    if size(V,1) > 0\n",
    "        for i in 1:size(V,2)\n",
    "            println(i)\n",
    "            @constraint(m, theta >= transpose(V[:,i])*(h-T*x))\n",
    "        end\n",
    "    end\n",
    "    println(\"Works 7\")\n",
    "    optimize!(m)\n",
    "    sol = zeros(1, nx)\n",
    "    for i = 1:nx\n",
    "        sol[i] = JuMP.value(x[i])\n",
    "    end\n",
    "    sol = vec(sol)\n",
    "    return (objective_value(m), sol, -Inf)\n",
    "end"
   ]
  },
  {
   "cell_type": "code",
   "execution_count": 135,
   "id": "elder-guest",
   "metadata": {},
   "outputs": [
    {
     "name": "stdout",
     "output_type": "stream",
     "text": [
      "Works 6\n",
      "Works 7\n",
      "Version identifier: 20.1.0.0 | 2020-11-10 | 9bedb6d68\n",
      "Tried aggregator 1 time.\n",
      "LP Presolve eliminated 3 rows and 3 columns.\n",
      "All rows and columns eliminated.\n",
      "Presolve time = 0.00 sec. (0.00 ticks)\n",
      "7000.0\n",
      "[40.0, 20.0]\n",
      "-Inf\n",
      "Yo la mif\n",
      "[60.0, -40.0, -20.0]\n",
      "[120, -40, -20]\n"
     ]
    }
   ],
   "source": [
    "A = [1 1; -1 0; 0 -1]\n",
    "b = [120; -40; -20]\n",
    "c = [100 150]\n",
    "(val_0, x_0, theta_0) = solve_master(A, b, c, [], [], [], [])\n",
    "println(val_0)\n",
    "println(x_0)\n",
    "println(theta_0)\n",
    "\n",
    "println(\"Yo la mif\")\n",
    "println(A*x_0)\n",
    "println(b)"
   ]
  },
  {
   "cell_type": "code",
   "execution_count": null,
   "id": "cognitive-organic",
   "metadata": {},
   "outputs": [],
   "source": []
  }
 ],
 "metadata": {
  "kernelspec": {
   "display_name": "Julia 1.6.0",
   "language": "julia",
   "name": "julia-1.6"
  },
  "language_info": {
   "file_extension": ".jl",
   "mimetype": "application/julia",
   "name": "julia",
   "version": "1.6.0"
  }
 },
 "nbformat": 4,
 "nbformat_minor": 5
}
