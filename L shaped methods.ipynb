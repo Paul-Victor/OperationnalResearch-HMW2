{
 "cells": [
  {
   "cell_type": "code",
   "execution_count": 10,
   "id": "secret-football",
   "metadata": {},
   "outputs": [],
   "source": [
    "using JuMP\n",
    "using CPLEX\n",
    "using LinearAlgebra"
   ]
  },
  {
   "cell_type": "markdown",
   "id": "weighted-treasury",
   "metadata": {},
   "source": [
    "Now we define the master problem :)"
   ]
  },
  {
   "cell_type": "code",
   "execution_count": 5,
   "id": "million-fruit",
   "metadata": {},
   "outputs": [
    {
     "ename": "LoadError",
     "evalue": "LoadError: UndefVarError: @variable not defined\nin expression starting at In[5]:5",
     "output_type": "error",
     "traceback": [
      "LoadError: UndefVarError: @variable not defined\nin expression starting at In[5]:5",
      "",
      "Stacktrace:",
      " [1] top-level scope",
      "   @ :0",
      " [2] eval",
      "   @ ./boot.jl:360 [inlined]",
      " [3] include_string(mapexpr::typeof(REPL.softscope), mod::Module, code::String, filename::String)",
      "   @ Base ./loading.jl:1094"
     ]
    }
   ],
   "source": [
    "function solve_master(A,b,c, op_A, op_B, feas_A, feas_B)\n",
    "    nx = size(c, 2)\n",
    "    m = Model(CPLEX.Optimizer)\n",
    "    if size(op_A, 1) == 0\n",
    "        @variable(m, x[1:nx])\n",
    "        @objective(m, Min, sum(c[i] * x[i] for i = 1:nx))\n",
    "        @constraint(m, A*x .<= b)\n",
    "        optimize!(m)\n",
    "        theta = -Inf\n",
    "    else\n",
    "        @variable(m, x[1:nx])\n",
    "        @variable(m, theta)\n",
    "        @objective(m, Min, sum(c[i] * x[i] for i = 1:nx) + theta)\n",
    "        @constraint(m, A*x .<= b)\n",
    "        for i = 1:size(op_A, 1)\n",
    "            @constraint(m, \n",
    "                sum(op_A[i,j] * x[j] for j = 1:nx) + op_A[i,nx+1] * theta .>= op_B[i])\n",
    "        end\n",
    "        optimize!(m)\n",
    "        theta = JuMP.value(theta)\n",
    "    end\n",
    "    sol = zeros(1, nx)\n",
    "    for i = 1:nx\n",
    "            sol[i] = JuMP.value(x[i])\n",
    "    end\n",
    "    sol = vec(sol)\n",
    "    return (objective_value(m), sol, theta, JuMP.termination_status(m))\n",
    "end"
   ]
  },
  {
   "cell_type": "code",
   "execution_count": 6,
   "id": "d9ffd656",
   "metadata": {},
   "outputs": [
    {
     "ename": "LoadError",
     "evalue": "LoadError: UndefVarError: @variable not defined\nin expression starting at In[6]:6",
     "output_type": "error",
     "traceback": [
      "LoadError: UndefVarError: @variable not defined\nin expression starting at In[6]:6",
      "",
      "Stacktrace:",
      " [1] top-level scope",
      "   @ :0",
      " [2] eval",
      "   @ ./boot.jl:360 [inlined]",
      " [3] include_string(mapexpr::typeof(REPL.softscope), mod::Module, code::String, filename::String)",
      "   @ Base ./loading.jl:1094"
     ]
    }
   ],
   "source": [
    "function step2(W, h, T, x, omega, q)\n",
    "    println(\"Beginning step 2 ...\")\n",
    "    m = Model(CPLEX.Optimizer)\n",
    "    ny = size(W,2)\n",
    "    \n",
    "    @variable(m, y[1:ny] >= 0)\n",
    "\n",
    "    @constraint(m,constraint, W*y - h[:,omega] + T*x .<= 0)\n",
    "    @objective(m, Min, transpose(q[:,omega]) * y)\n",
    "    optimize!(m);\n",
    "    sol = zeros(1, ny)\n",
    "    for i = 1:ny\n",
    "        sol[i] = JuMP.value(y[i])\n",
    "    end\n",
    "    sol = vec(sol)\n",
    "    return (objective_value(m), sol, dual.(constraint), JuMP.termination_status(m))\n",
    "    println(\"Step 2 Fini :)\")\n",
    "end"
   ]
  },
  {
   "cell_type": "code",
   "execution_count": 7,
   "id": "prescribed-title",
   "metadata": {},
   "outputs": [
    {
     "data": {
      "text/plain": [
       "main (generic function with 1 method)"
      ]
     },
     "execution_count": 7,
     "metadata": {},
     "output_type": "execute_result"
    }
   ],
   "source": [
    "function main(A, b, c, T, W, h, q, p)\n",
    "    V = []\n",
    "    S = []\n",
    "    \n",
    "    k = 0\n",
    "    val_k, x_k, theta_k = 0, 0, 0\n",
    "\n",
    "    while (k<10000000000)\n",
    "        println(k)\n",
    "        \n",
    "        (val_k, x_k, theta_k, termination_status) = solve_master(A, b, c, h, T, V, S)\n",
    "    \n",
    "        if termination_status == MOI.INFEASIBLE\n",
    "            return (-1, -1, -1)\n",
    "        end\n",
    "        \n",
    "        V_temp = []\n",
    "        status = 0\n",
    "        \n",
    "        for w in 1:size(p,2)\n",
    "            print(\"w : \")\n",
    "            println(w)\n",
    "            (pi_k, y_k, sigma_k, termination_status) = step2(W, h, T, x_k, w, q)\n",
    "            \n",
    "            if termination_status == MOI.INFEASIBLE\n",
    "                println(\"Infeasible step 2\")\n",
    "                S_k = [S_k; sigma_k]\n",
    "                k += 1\n",
    "                status = 1\n",
    "                break\n",
    "            else\n",
    "                println(\"Feasible step 2\")\n",
    "                if V_temp == []\n",
    "                    V_temp = [p[w]*pi_k]\n",
    "                else\n",
    "                    V_temp = [V_temp p[w]*pi_k]\n",
    "                end\n",
    "            end\n",
    "        end\n",
    "        if(status == 0)\n",
    "            print(\"Added vector : \")\n",
    "                println(V_temp)\n",
    "            if V == []\n",
    "                V_new  = V_temp\n",
    "            else\n",
    "                V_new = [V; V_temp]\n",
    "            end\n",
    "            \n",
    "            if(V_new == V)\n",
    "                return (x_k, y_k, k)\n",
    "            else\n",
    "                k += 1\n",
    "                V = V_new\n",
    "            end\n",
    "        end\n",
    "    end\n",
    "end "
   ]
  },
  {
   "cell_type": "code",
   "execution_count": 8,
   "id": "elder-guest",
   "metadata": {
    "scrolled": false
   },
   "outputs": [
    {
     "name": "stdout",
     "output_type": "stream",
     "text": [
      "0\n"
     ]
    },
    {
     "ename": "LoadError",
     "evalue": "UndefVarError: solve_master not defined",
     "output_type": "error",
     "traceback": [
      "UndefVarError: solve_master not defined",
      "",
      "Stacktrace:",
      " [1] main(A::Matrix{Int64}, b::Vector{Int64}, c::Vector{Int64}, T::Matrix{Int64}, W::Matrix{Int64}, h::Matrix{Int64}, q::Matrix{Int64}, p::Matrix{Float64})",
      "   @ Main ./In[7]:11",
      " [2] top-level scope",
      "   @ In[8]:13",
      " [3] eval",
      "   @ ./boot.jl:360 [inlined]",
      " [4] include_string(mapexpr::typeof(REPL.softscope), mod::Module, code::String, filename::String)",
      "   @ Base ./loading.jl:1094"
     ]
    }
   ],
   "source": [
    "d = [500 100; 300 300]\n",
    "q = [-24 -28; -28 -32]\n",
    "p = [0.4 0.6]\n",
    "\n",
    "A = [1 1; -1 0; 0 -1]\n",
    "b = [120; -40; -20]\n",
    "c = [100; 150]\n",
    "\n",
    "T = [-60 0; 0 -80; 0 0; 0 0]\n",
    "W = [6 10; 8 5; 1 0; 0 1]\n",
    "h = [0 0; 0 0; d[1,1] d[2,1]; d[1,2] d[2,2]]\n",
    "\n",
    "(x,y, k) = main(A, b, c, T, W, h, q, p)\n",
    "\n",
    "println(x)\n",
    "println(y)\n",
    "println(k)\n"
   ]
  },
  {
   "cell_type": "code",
   "execution_count": null,
   "id": "945b4b4a",
   "metadata": {},
   "outputs": [],
   "source": []
  }
 ],
 "metadata": {
  "kernelspec": {
   "display_name": "Julia 1.6.0",
   "language": "julia",
   "name": "julia-1.6"
  },
  "language_info": {
   "file_extension": ".jl",
   "mimetype": "application/julia",
   "name": "julia",
   "version": "1.6.0"
  }
 },
 "nbformat": 4,
 "nbformat_minor": 5
}
