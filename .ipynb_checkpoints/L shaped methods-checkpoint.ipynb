{
 "cells": [
  {
   "cell_type": "code",
   "execution_count": 53,
   "id": "frank-newark",
   "metadata": {},
   "outputs": [],
   "source": [
    "using JuMP\n",
    "using CPLEX\n",
    "using LinearAlgebra"
   ]
  },
  {
   "cell_type": "markdown",
   "id": "abroad-tulsa",
   "metadata": {},
   "source": [
    "Now we define the master problem :)"
   ]
  },
  {
   "cell_type": "code",
   "execution_count": 54,
   "id": "hindu-snake",
   "metadata": {},
   "outputs": [
    {
     "data": {
      "text/plain": [
       "solve_master (generic function with 1 method)"
      ]
     },
     "execution_count": 54,
     "metadata": {},
     "output_type": "execute_result"
    }
   ],
   "source": [
    "function solve_master(A,b,c, op_A, op_B, feas_A, feas_B)\n",
    "    nx = size(c, 2)\n",
    "    m = Model(CPLEX.Optimizer)\n",
    "    set_optimizer_attribute(m, \"CPX_PARAM_SCRIND\", 0)\n",
    "    if size(op_A, 1) == 0\n",
    "        @variable(m, x[i=1:nx]>=0)\n",
    "        @objective(m, Min, sum(c[i] * x[i] for i = 1:nx))\n",
    "        @constraint(m, A*x .<= b)\n",
    "        optimize!(m)\n",
    "        theta = -Inf\n",
    "    else\n",
    "        @variable(m, x[1:nx])\n",
    "        @variable(m, theta)\n",
    "        @objective(m, Min, sum(c[i] * x[i] for i = 1:nx) + theta)\n",
    "        @constraint(m, A*x .<= b)\n",
    "        for i = 1:size(op_A, 1)\n",
    "            @constraint(m, sum(op_A[i,j] * x[j] for j = 1:nx) + op_A[i,nx+1] * theta .>= op_B[i])\n",
    "    \n",
    "        end\n",
    "    end\n",
    "    if size(feas_A, 1) != 0\n",
    "        for i = 1:size(feas_A, 1)\n",
    "            @constraint(m, sum(feas_A[i,j] * x[j] for j = 1:nx) .>= feas_B[i])\n",
    "    \n",
    "        end\n",
    "    end\n",
    "    optimize!(m)\n",
    "    theta = JuMP.value(theta)\n",
    "    sol = zeros(1, nx)\n",
    "    for i = 1:nx\n",
    "        sol[i] = JuMP.value(x[i])\n",
    "    end\n",
    "    sol = vec(sol)\n",
    "    return (objective_value(m), sol, theta, JuMP.termination_status(m))\n",
    "end"
   ]
  },
  {
   "cell_type": "code",
   "execution_count": 55,
   "id": "searching-worker",
   "metadata": {},
   "outputs": [
    {
     "data": {
      "text/plain": [
       "step2 (generic function with 1 method)"
      ]
     },
     "execution_count": 55,
     "metadata": {},
     "output_type": "execute_result"
    }
   ],
   "source": [
    "function step2(W, h, T, x, omega, q)\n",
    "    m = Model(CPLEX.Optimizer)\n",
    "    ny = size(W,2)\n",
    "    set_optimizer_attribute(m, \"CPX_PARAM_SCRIND\", 0)\n",
    "    @variable(m, y[1:ny] >= 0)\n",
    "    @constraint(m,constraint, W*y - h[:,omega] + T*x .<= 0)\n",
    "    @objective(m, Min, transpose(q[omega,:]) * y)\n",
    "    optimize!(m);\n",
    "    sol = zeros(1, ny)\n",
    "    for i = 1:ny\n",
    "        sol[i] = JuMP.value(y[i])\n",
    "    end\n",
    "    sol = vec(sol)\n",
    "    return (objective_value(m), sol, dual.(constraint), JuMP.termination_status(m))\n",
    "end"
   ]
  },
  {
   "cell_type": "code",
   "execution_count": 56,
   "id": "black-leave",
   "metadata": {},
   "outputs": [
    {
     "data": {
      "text/plain": [
       "compute_optimality_cuts (generic function with 1 method)"
      ]
     },
     "execution_count": 56,
     "metadata": {},
     "output_type": "execute_result"
    }
   ],
   "source": [
    "function compute_optimality_cuts(W, h, T, x_k, q, p)\n",
    "    e = 0\n",
    "    E = zeros(1,size(x_k,1))\n",
    "    w_now = 0\n",
    "    y_now = [] \n",
    "    for w in 1:size(p,2)\n",
    "        (w_now, y_now, pi_k, termination_status) = step2(W, h, T, x_k, w, q)\n",
    "        e += p[w] * transpose(pi_k) * h[:,w]\n",
    "        E += p[w] * transpose(pi_k) * T\n",
    "    end\n",
    "    return(e, E, e - (E*x_k)[1], y_now)\n",
    "end"
   ]
  },
  {
   "cell_type": "code",
   "execution_count": 60,
   "id": "copyrighted-metadata",
   "metadata": {},
   "outputs": [
    {
     "data": {
      "text/plain": [
       "compute_feasibility_cuts (generic function with 1 method)"
      ]
     },
     "execution_count": 60,
     "metadata": {},
     "output_type": "execute_result"
    }
   ],
   "source": [
    "function compute_feasibility_cuts(W,h,T,x_k)\n",
    "    ny = size(W,2)        # number of variable\n",
    "    nconst = size(W,1)    # number of constraint\n",
    "    nscen = size(h,2)     # number of scenario\n",
    "    for k in 1:nscen\n",
    "        m = Model(CPLEX.Optimizer)\n",
    "        set_optimizer_attribute(m, \"CPX_PARAM_SCRIND\", 0)\n",
    "        @variable(m, y[1:ny] >= 0)\n",
    "        @variable(m, vplus[1:nconst] >= 0)\n",
    "        @variable(m, vmoins[1:nconst] >= 0)\n",
    "        @objective(m, Min, sum(vplus[i] + vmoins[i] for i = 1:nconst))\n",
    "        @constraint(m, dual_const, W*y + vplus - vmoins .<= h[:,k] - T*x_k) # .<= instead of .== because we add one variable for each equality : x + y = 10 <=> x + y - s <= 10\n",
    "                                                                            # Dual shows that indead the constraint is tight when w' = 0\n",
    "        optimize!(m)\n",
    "        w_prime = objective_value(m)\n",
    "        dual_val = dual.(dual_const)\n",
    "        if(w_prime > 0)\n",
    "            D = transpose(dual_val) * T\n",
    "            d = transpose(dual_val) * h[:,k]\n",
    "            return(true,d,D)\n",
    "        end\n",
    "    end\n",
    "    return(false,-1,-1)\n",
    "end"
   ]
  },
  {
   "cell_type": "code",
   "execution_count": 61,
   "id": "entertaining-sense",
   "metadata": {},
   "outputs": [
    {
     "data": {
      "text/plain": [
       "main (generic function with 1 method)"
      ]
     },
     "execution_count": 61,
     "metadata": {},
     "output_type": "execute_result"
    }
   ],
   "source": [
    "function main(A, b, c, T, W, h, q, p)\n",
    "    op_A = []\n",
    "    op_B = []\n",
    "    fea_A = []\n",
    "    fea_B = []\n",
    "    k = 0\n",
    "    val_k, x_k, theta_k = 0, 0, 0\n",
    "    w_now = -Inf\n",
    "    y_k = 0\n",
    "    e = 0\n",
    "    E = zeros(1,size(p,2))\n",
    "    while (k<10000000000)\n",
    "        (val_k, x_k, theta_k, termination_status) = solve_master(A, b, c, op_A, op_B, fea_A, fea_B)\n",
    "        if termination_status == MOI.INFEASIBLE\n",
    "            return (-1, -1, -1, -1)\n",
    "        end\n",
    "        V_temp = []\n",
    "        (added_const,d,D) = compute_feasibility_cuts(W,h,T,x_k)\n",
    "        if !added_const\n",
    "            (e, E, w_now, y_k) = compute_optimality_cuts(W, h, T, x_k, q, p)\n",
    "            if(w_now <= theta_k)\n",
    "                return (x_k, y_k, k+1, val_k)\n",
    "            end\n",
    "            V_temp = [E 1]\n",
    "            if op_A == []\n",
    "                op_A  = V_temp\n",
    "                op_B  = [e]    \n",
    "            else\n",
    "                op_A = [op_A; V_temp]\n",
    "                op_B = [op_B;e]\n",
    "            end\n",
    "        else\n",
    "            V_temp = D\n",
    "            if fea_A == []\n",
    "                fea_A  = V_temp\n",
    "                fea_B  = [d]    \n",
    "            else\n",
    "                fea_A = [fea_A; V_temp]\n",
    "                fea_B = [fea_B;d]\n",
    "            end\n",
    "        end\n",
    "        k += 1 \n",
    "    end\n",
    "end "
   ]
  },
  {
   "cell_type": "code",
   "execution_count": 62,
   "id": "angry-postage",
   "metadata": {},
   "outputs": [
    {
     "name": "stdout",
     "output_type": "stream",
     "text": [
      "Solution Found !\n",
      "\t x = [27.2, 41.6]\n",
      "\t Iterations = 12\n"
     ]
    }
   ],
   "source": [
    "\n",
    "#= Test 1\n",
    "d = [500 100; 300 300]\n",
    "q = [-24 -28; -28 -32]\n",
    "p = [0.4 0.6]\n",
    "\n",
    "A = [1 1; -1 0; 0 -1]\n",
    "b = [120; -40; -20]\n",
    "c = [100 150]\n",
    "\n",
    "T = [-60 0; 0 -80; 0 0; 0 0]\n",
    "W = [6 10; 8 5; 1 0; 0 1]\n",
    "h = [0 0; 0 0; d[1,1] d[2,1]; d[1,2] d[2,2]]\n",
    "=#\n",
    "#= Test 2\n",
    "\n",
    "q = [1 1; 1 1; 1 1]\n",
    "p = [1/3 1/3 1/3]\n",
    "A = reshape([1], 1, 1)\n",
    "b = [10]\n",
    "c = [0]\n",
    "T = reshape([1; -1], 2, 1)\n",
    "W = [1 -1; -1 1]\n",
    "h = [1 2 4; -1 -2 -4]\n",
    "=#\n",
    "\n",
    "# Test 3\n",
    "\n",
    "q = [15 12; 15 12; 15 12; 15 12]\n",
    "p = [1/4 1/4 1/4 1/4]\n",
    "A = reshape([0 0], 1, 2)\n",
    "b = [1]\n",
    "c = [3 2]\n",
    "T = [-1 0; 0 -1; 0 0; 0 0; 0 0; 0 0]\n",
    "W = [3 2; 2 5; 1 0; 0 1; -1 0; 0 -1]\n",
    "h = [0 0 0 0; 0 0 0 0; 4 4 6 6; 4 8 4 8; (-0.8*4) (-0.8*4) (-0.8*6) (-0.8*6); (-0.8*4) (-0.8*8) (-0.8*4) (-0.8*8)]\n",
    "\n",
    "(x,y, k, val) = main(A, b, c, T, W, h, q, p)\n",
    "\n",
    "println(\"Solution Found !\")\n",
    "print(\"\\t x = \")\n",
    "println(x)\n",
    "print(\"\\t Iterations = \")\n",
    "println(k)"
   ]
  },
  {
   "cell_type": "code",
   "execution_count": null,
   "id": "delayed-radical",
   "metadata": {},
   "outputs": [],
   "source": []
  },
  {
   "cell_type": "code",
   "execution_count": null,
   "id": "steady-cover",
   "metadata": {},
   "outputs": [],
   "source": []
  }
 ],
 "metadata": {
  "kernelspec": {
   "display_name": "Julia 1.6.0",
   "language": "julia",
   "name": "julia-1.6"
  },
  "language_info": {
   "file_extension": ".jl",
   "mimetype": "application/julia",
   "name": "julia",
   "version": "1.6.0"
  }
 },
 "nbformat": 4,
 "nbformat_minor": 5
}
