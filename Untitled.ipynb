{
 "cells": [
  {
   "cell_type": "code",
   "execution_count": 2,
   "id": "unique-court",
   "metadata": {},
   "outputs": [],
   "source": [
    "using JuMP\n",
    "using CPLEX\n",
    "using LinearAlgebra"
   ]
  },
  {
   "cell_type": "code",
   "execution_count": 6,
   "id": "international-italian",
   "metadata": {},
   "outputs": [
    {
     "data": {
      "text/plain": [
       "solve_master (generic function with 1 method)"
      ]
     },
     "execution_count": 6,
     "metadata": {},
     "output_type": "execute_result"
    }
   ],
   "source": [
    "function solve_master(A,b,c, op_A, op_B, feas_A, feas_B)\n",
    "    nx = size(c, 2)\n",
    "    m = Model(CPLEX.Optimizer)\n",
    "    if size(op_A, 1) == 0\n",
    "        println(\"Not cuts\")\n",
    "        @variable(m, x[1:nx])\n",
    "        @objective(m, Min, sum(c[i] * x[i] for i = 1:nx))\n",
    "        @constraint(m, A*x .<= b)\n",
    "        optimize!(m)\n",
    "        theta = -Inf\n",
    "    else\n",
    "        println(\"Cuts are present\")\n",
    "        println(op_A)\n",
    "        println(op_B)\n",
    "        @variable(m, x[1:nx])\n",
    "        @variable(m, theta)\n",
    "        @objective(m, Min, sum(c[i] * x[i] for i = 1:nx) + theta)\n",
    "        @constraint(m, A*x .<= b)\n",
    "        for i = 1:size(op_A, 1)\n",
    "            @constraint(m, \n",
    "                sum(op_A[i,j] * x[j] for j = 1:nx) + op_A[i,nx+1] * theta .>= op_B[i])\n",
    "        end\n",
    "        optimize!(m)\n",
    "        theta = JuMP.value(theta)\n",
    "    end\n",
    "    sol = zeros(1, nx)\n",
    "    for i = 1:nx\n",
    "            sol[i] = JuMP.value(x[i])\n",
    "    end\n",
    "    sol = vec(sol)\n",
    "    return (objective_value(m), sol, theta, JuMP.termination_status(m))\n",
    "end"
   ]
  },
  {
   "cell_type": "code",
   "execution_count": 7,
   "id": "hungarian-encounter",
   "metadata": {},
   "outputs": [
    {
     "name": "stdout",
     "output_type": "stream",
     "text": [
      "Cuts are present\n",
      "[83.52 180.48 1.0]\n",
      "[-520]\n",
      "Version identifier: 20.1.0.0 | 2020-11-10 | 9bedb6d68\n",
      "Tried aggregator 1 time.\n",
      "LP Presolve eliminated 4 rows and 3 columns.\n",
      "All rows and columns eliminated.\n",
      "Presolve time = 0.00 sec. (0.00 ticks)\n",
      "x = -2299.199999999999\n",
      "z = [40.0, 80.0]\n",
      "theta = -18299.2\n"
     ]
    }
   ],
   "source": [
    "A = [1 1; -1 0; 0 -1]\n",
    "b = [120; -40; -20]\n",
    "c = [100 150]\n",
    "op_cut_A = [83.52 180.48 1]\n",
    "op_cut_B = [-520]\n",
    "\n",
    "(x, z, theta) = solve_master(A,b,c,op_cut_A,op_cut_B, [], [])\n",
    "\n",
    "print(\"x = \")\n",
    "println(x)\n",
    "print(\"z = \")\n",
    "println(z)\n",
    "print(\"theta = \")\n",
    "println(theta)"
   ]
  },
  {
   "cell_type": "code",
   "execution_count": null,
   "id": "complex-skirt",
   "metadata": {},
   "outputs": [],
   "source": []
  }
 ],
 "metadata": {
  "kernelspec": {
   "display_name": "Julia 1.6.0",
   "language": "julia",
   "name": "julia-1.6"
  },
  "language_info": {
   "file_extension": ".jl",
   "mimetype": "application/julia",
   "name": "julia",
   "version": "1.6.0"
  }
 },
 "nbformat": 4,
 "nbformat_minor": 5
}
